{
  "cells": [
    {
      "cell_type": "markdown",
      "metadata": {
        "id": "view-in-github",
        "colab_type": "text"
      },
      "source": [
        "<a href=\"https://colab.research.google.com/github/life-ofpi/2024_DL/blob/main/HW1.ipynb\" target=\"_parent\"><img src=\"https://colab.research.google.com/assets/colab-badge.svg\" alt=\"Open In Colab\"/></a>"
      ]
    },
    {
      "cell_type": "code",
      "source": [
        "!pip install torch\n",
        "!pip install torchvision"
      ],
      "metadata": {
        "id": "JVmyggtsOvyF",
        "outputId": "2193dbe6-f361-4825-d733-8b6cd9294bd5",
        "colab": {
          "base_uri": "https://localhost:8080/"
        }
      },
      "execution_count": null,
      "outputs": [
        {
          "output_type": "stream",
          "name": "stdout",
          "text": [
            "Requirement already satisfied: torch in /usr/local/lib/python3.10/dist-packages (2.2.1+cu121)\n",
            "Requirement already satisfied: filelock in /usr/local/lib/python3.10/dist-packages (from torch) (3.13.1)\n",
            "Requirement already satisfied: typing-extensions>=4.8.0 in /usr/local/lib/python3.10/dist-packages (from torch) (4.10.0)\n",
            "Requirement already satisfied: sympy in /usr/local/lib/python3.10/dist-packages (from torch) (1.12)\n",
            "Requirement already satisfied: networkx in /usr/local/lib/python3.10/dist-packages (from torch) (3.2.1)\n",
            "Requirement already satisfied: jinja2 in /usr/local/lib/python3.10/dist-packages (from torch) (3.1.3)\n",
            "Requirement already satisfied: fsspec in /usr/local/lib/python3.10/dist-packages (from torch) (2023.6.0)\n",
            "Requirement already satisfied: nvidia-cuda-nvrtc-cu12==12.1.105 in /usr/local/lib/python3.10/dist-packages (from torch) (12.1.105)\n",
            "Requirement already satisfied: nvidia-cuda-runtime-cu12==12.1.105 in /usr/local/lib/python3.10/dist-packages (from torch) (12.1.105)\n",
            "Requirement already satisfied: nvidia-cuda-cupti-cu12==12.1.105 in /usr/local/lib/python3.10/dist-packages (from torch) (12.1.105)\n",
            "Requirement already satisfied: nvidia-cudnn-cu12==8.9.2.26 in /usr/local/lib/python3.10/dist-packages (from torch) (8.9.2.26)\n",
            "Requirement already satisfied: nvidia-cublas-cu12==12.1.3.1 in /usr/local/lib/python3.10/dist-packages (from torch) (12.1.3.1)\n",
            "Requirement already satisfied: nvidia-cufft-cu12==11.0.2.54 in /usr/local/lib/python3.10/dist-packages (from torch) (11.0.2.54)\n",
            "Requirement already satisfied: nvidia-curand-cu12==10.3.2.106 in /usr/local/lib/python3.10/dist-packages (from torch) (10.3.2.106)\n",
            "Requirement already satisfied: nvidia-cusolver-cu12==11.4.5.107 in /usr/local/lib/python3.10/dist-packages (from torch) (11.4.5.107)\n",
            "Requirement already satisfied: nvidia-cusparse-cu12==12.1.0.106 in /usr/local/lib/python3.10/dist-packages (from torch) (12.1.0.106)\n",
            "Requirement already satisfied: nvidia-nccl-cu12==2.19.3 in /usr/local/lib/python3.10/dist-packages (from torch) (2.19.3)\n",
            "Requirement already satisfied: nvidia-nvtx-cu12==12.1.105 in /usr/local/lib/python3.10/dist-packages (from torch) (12.1.105)\n",
            "Requirement already satisfied: triton==2.2.0 in /usr/local/lib/python3.10/dist-packages (from torch) (2.2.0)\n",
            "Requirement already satisfied: nvidia-nvjitlink-cu12 in /usr/local/lib/python3.10/dist-packages (from nvidia-cusolver-cu12==11.4.5.107->torch) (12.4.99)\n",
            "Requirement already satisfied: MarkupSafe>=2.0 in /usr/local/lib/python3.10/dist-packages (from jinja2->torch) (2.1.5)\n",
            "Requirement already satisfied: mpmath>=0.19 in /usr/local/lib/python3.10/dist-packages (from sympy->torch) (1.3.0)\n",
            "Requirement already satisfied: torchvision in /usr/local/lib/python3.10/dist-packages (0.17.1+cu121)\n",
            "Requirement already satisfied: numpy in /usr/local/lib/python3.10/dist-packages (from torchvision) (1.25.2)\n",
            "Requirement already satisfied: torch==2.2.1 in /usr/local/lib/python3.10/dist-packages (from torchvision) (2.2.1+cu121)\n",
            "Requirement already satisfied: pillow!=8.3.*,>=5.3.0 in /usr/local/lib/python3.10/dist-packages (from torchvision) (9.4.0)\n",
            "Requirement already satisfied: filelock in /usr/local/lib/python3.10/dist-packages (from torch==2.2.1->torchvision) (3.13.1)\n",
            "Requirement already satisfied: typing-extensions>=4.8.0 in /usr/local/lib/python3.10/dist-packages (from torch==2.2.1->torchvision) (4.10.0)\n",
            "Requirement already satisfied: sympy in /usr/local/lib/python3.10/dist-packages (from torch==2.2.1->torchvision) (1.12)\n",
            "Requirement already satisfied: networkx in /usr/local/lib/python3.10/dist-packages (from torch==2.2.1->torchvision) (3.2.1)\n",
            "Requirement already satisfied: jinja2 in /usr/local/lib/python3.10/dist-packages (from torch==2.2.1->torchvision) (3.1.3)\n",
            "Requirement already satisfied: fsspec in /usr/local/lib/python3.10/dist-packages (from torch==2.2.1->torchvision) (2023.6.0)\n",
            "Requirement already satisfied: nvidia-cuda-nvrtc-cu12==12.1.105 in /usr/local/lib/python3.10/dist-packages (from torch==2.2.1->torchvision) (12.1.105)\n",
            "Requirement already satisfied: nvidia-cuda-runtime-cu12==12.1.105 in /usr/local/lib/python3.10/dist-packages (from torch==2.2.1->torchvision) (12.1.105)\n",
            "Requirement already satisfied: nvidia-cuda-cupti-cu12==12.1.105 in /usr/local/lib/python3.10/dist-packages (from torch==2.2.1->torchvision) (12.1.105)\n",
            "Requirement already satisfied: nvidia-cudnn-cu12==8.9.2.26 in /usr/local/lib/python3.10/dist-packages (from torch==2.2.1->torchvision) (8.9.2.26)\n",
            "Requirement already satisfied: nvidia-cublas-cu12==12.1.3.1 in /usr/local/lib/python3.10/dist-packages (from torch==2.2.1->torchvision) (12.1.3.1)\n",
            "Requirement already satisfied: nvidia-cufft-cu12==11.0.2.54 in /usr/local/lib/python3.10/dist-packages (from torch==2.2.1->torchvision) (11.0.2.54)\n",
            "Requirement already satisfied: nvidia-curand-cu12==10.3.2.106 in /usr/local/lib/python3.10/dist-packages (from torch==2.2.1->torchvision) (10.3.2.106)\n",
            "Requirement already satisfied: nvidia-cusolver-cu12==11.4.5.107 in /usr/local/lib/python3.10/dist-packages (from torch==2.2.1->torchvision) (11.4.5.107)\n",
            "Requirement already satisfied: nvidia-cusparse-cu12==12.1.0.106 in /usr/local/lib/python3.10/dist-packages (from torch==2.2.1->torchvision) (12.1.0.106)\n",
            "Requirement already satisfied: nvidia-nccl-cu12==2.19.3 in /usr/local/lib/python3.10/dist-packages (from torch==2.2.1->torchvision) (2.19.3)\n",
            "Requirement already satisfied: nvidia-nvtx-cu12==12.1.105 in /usr/local/lib/python3.10/dist-packages (from torch==2.2.1->torchvision) (12.1.105)\n",
            "Requirement already satisfied: triton==2.2.0 in /usr/local/lib/python3.10/dist-packages (from torch==2.2.1->torchvision) (2.2.0)\n",
            "Requirement already satisfied: nvidia-nvjitlink-cu12 in /usr/local/lib/python3.10/dist-packages (from nvidia-cusolver-cu12==11.4.5.107->torch==2.2.1->torchvision) (12.4.99)\n",
            "Requirement already satisfied: MarkupSafe>=2.0 in /usr/local/lib/python3.10/dist-packages (from jinja2->torch==2.2.1->torchvision) (2.1.5)\n",
            "Requirement already satisfied: mpmath>=0.19 in /usr/local/lib/python3.10/dist-packages (from sympy->torch==2.2.1->torchvision) (1.3.0)\n"
          ]
        }
      ]
    },
    {
      "cell_type": "code",
      "source": [
        "import numpy as np\n",
        "import pandas as pd\n",
        "from sklearn import metrics\n",
        "from sklearn.datasets import fetch_openml\n",
        "\n",
        "mnist=fetch_openml(\"mnist_784\")\n",
        "mnist.data.shape, mnist.target.shape\n",
        "x_data=mnist.data\n",
        "y_data=mnist.target.astype(int)"
      ],
      "metadata": {
        "id": "0CPn_CDmO_0t",
        "outputId": "e88db532-a0a7-4879-a97c-42bcd7fd46e9",
        "colab": {
          "base_uri": "https://localhost:8080/"
        }
      },
      "execution_count": null,
      "outputs": [
        {
          "output_type": "stream",
          "name": "stderr",
          "text": [
            "/usr/local/lib/python3.10/dist-packages/sklearn/datasets/_openml.py:968: FutureWarning: The default value of `parser` will change from `'liac-arff'` to `'auto'` in 1.4. You can set `parser='auto'` to silence this warning. Therefore, an `ImportError` will be raised from 1.4 if the dataset is dense and pandas is not installed. Note that the pandas parser may return different data types. See the Notes Section in fetch_openml's API doc for details.\n",
            "  warn(\n"
          ]
        }
      ]
    },
    {
      "cell_type": "code",
      "source": [
        "from sklearn.model_selection import train_test_split\n",
        "X_train,X_test,y_train,y_test=train_test_split(x_data,y_data,test_size=0.20,random_state=42)\n",
        "print(X_train.shape)\n",
        "print(X_test.shape)\n",
        "print(y_train.shape)\n",
        "print(y_test.shape)"
      ],
      "metadata": {
        "id": "uOskbdEwPUTa",
        "outputId": "75607848-8ba4-4752-c6fb-027daa9cb2cd",
        "colab": {
          "base_uri": "https://localhost:8080/"
        }
      },
      "execution_count": null,
      "outputs": [
        {
          "output_type": "stream",
          "name": "stdout",
          "text": [
            "(56000, 784)\n",
            "(14000, 784)\n",
            "(56000,)\n",
            "(14000,)\n"
          ]
        }
      ]
    },
    {
      "cell_type": "code",
      "source": [
        "import torch\n",
        "import torch.nn as nn\n",
        "import numpy as np\n",
        "import pandas as pd\n",
        "from sklearn import model_selection\n",
        "from sklearn.linear_model import LogisticRegression\n",
        "X_train, X_test, y_train, y_test = train_test_split(x_data, y_data, test_size=0.20, random_state=42)\n",
        "\n",
        "# pandas의 DataFrame 또는 numpy 배열을 PyTorch 텐서로 변환\n",
        "X_train_tensor = torch.tensor(X_train.values).float()  # 모델과 호환되도록 float 타입으로 변환\n",
        "y_train_tensor = torch.tensor(y_train.values).long()   # 레이블/타깃이므로 long 타입으로 변환\n",
        "\n",
        "X_test_tensor = torch.tensor(X_test.values).float()\n",
        "y_test_tensor = torch.tensor(y_test.values).long()\n",
        "\n"
      ],
      "metadata": {
        "id": "ZyPKEEARPaKL"
      },
      "execution_count": null,
      "outputs": []
    },
    {
      "cell_type": "code",
      "source": [
        "import torch.nn as nn\n",
        "\n",
        "class LogisticRegression(nn.Module):\n",
        "    def __init__(self, input_dim, output_dim):\n",
        "        super(LogisticRegression, self).__init__()\n",
        "        self.linear = nn.Linear(input_dim, output_dim)\n",
        "\n",
        "    def forward(self, x):\n",
        "        outputs = torch.sigmoid(self.linear(x))\n",
        "        return outputs\n",
        "#입력 데이터를 받아 선형 변환을 수행한 후, 시그모이드 함수를 통해 확률을 출력하는 간단한 로지스틱 회귀 모델을 구현"
      ],
      "metadata": {
        "id": "5yGbj6NCQosW"
      },
      "execution_count": null,
      "outputs": []
    },
    {
      "cell_type": "code",
      "source": [
        "device=torch.device(\"cuda\" if torch.cuda.is_available() else \"cpu\")\n",
        "print(device)\n",
        "#hyper parameters\n",
        "epochs = 10000\n",
        "input_dim = 784\n",
        "output_dim = 10\n",
        "lr = 0.01\n",
        "model = LogisticRegression(input_dim, output_dim)\n",
        "model = model.to(device)\n",
        "criterion = torch.nn.CrossEntropyLoss() #교차 entropy\n",
        "optimizer = torch.optim.SGD(model.parameters(), lr=lr)\n"
      ],
      "metadata": {
        "id": "e3QV359aPw0q",
        "outputId": "d3f5aaea-9544-45ad-ab93-9c8202b92f59",
        "colab": {
          "base_uri": "https://localhost:8080/"
        }
      },
      "execution_count": null,
      "outputs": [
        {
          "output_type": "stream",
          "name": "stdout",
          "text": [
            "cuda\n"
          ]
        }
      ]
    },
    {
      "cell_type": "code",
      "source": [
        "import matplotlib.pyplot as plt\n",
        "from torch.utils.data import TensorDataset, DataLoader\n",
        "\n",
        "train_loss_save_arr = []\n",
        "test_loss_save_arr = []\n",
        "X_train_tensor = X_train_tensor.to(device)\n",
        "y_train_tensor = y_train_tensor.to(device)\n",
        "\n",
        "# 테스트 데이터셋을 위한 TensorDataset 인스턴스 생성\n",
        "test_dataset = TensorDataset(X_test_tensor, y_test_tensor)\n",
        "test_loader = DataLoader(dataset=test_dataset, batch_size=64, shuffle=False)\n"
      ],
      "metadata": {
        "id": "cYh5XNB2QmVN"
      },
      "execution_count": null,
      "outputs": []
    },
    {
      "cell_type": "code",
      "source": [
        "loss_save_arr = []\n",
        "\n",
        "for i in range(epochs):\n",
        "    #### train ####\n",
        "    model.train()\n",
        "    optimizer.zero_grad()\n",
        "    output = model(X_train_tensor)\n",
        "    loss = criterion(output, y_train_tensor)\n",
        "    loss.backward()\n",
        "    optimizer.step()\n",
        "    loss_save_arr.append(loss.item())\n",
        "\n",
        "    if i % 10 == 0:\n",
        "        # 10 에폭마다 훈련 손실 기록\n",
        "        train_loss_save_arr.append(loss.item())\n",
        "\n",
        "\n",
        "    if i % 1000 == 0:\n",
        "        print(\"======\")\n",
        "        print('epoch ', i)\n",
        "        print('loss ', loss.item())\n",
        "        _, pred = torch.max(output.data, axis=1)\n",
        "        train_accuracy = (pred == y_train_tensor).float().mean().item()\n",
        "        print(f\"train_accuracy {train_accuracy:.3f}\")\n",
        "\n",
        "\n",
        "    #### test ####\n",
        "        model.eval()\n",
        "        with torch.no_grad():\n",
        "          test_loss = 0\n",
        "          correct = 0\n",
        "          total =0\n",
        "          for data, target in test_loader:\n",
        "            data, target = data.to(device), target.to(device)\n",
        "            output = model(data)\n",
        "            loss = criterion(output, target)\n",
        "            test_loss += loss.item() * data.size(0)  # 전체 손실에 더함\n",
        "            _, pred = torch.max(output, 1)\n",
        "            correct += (pred == target).sum().item()  # 정확히 예측된 샘플 수를 더함\n",
        "            total += target.size(0)\n",
        "          test_loss /= len(test_loader.dataset)\n",
        "          test_accuracy = correct / total\n",
        "          print(f\"test_accuracy {test_accuracy:.3f}\")\n",
        "          test_loss_save_arr.append(test_loss)\n",
        "\n",
        "plt.plot(train_loss_save_arr, label='Train Loss')\n",
        "plt.plot(test_loss_save_arr, label='Test Loss')\n",
        "plt.xlabel('Epochs (x10)')\n",
        "plt.ylabel('Loss')\n",
        "plt.title('Train / Test Loss')\n",
        "plt.legend()\n",
        "plt.show()\n"
      ],
      "metadata": {
        "id": "hVKH47kLQrrU",
        "outputId": "b49c5ec6-4ede-4c1b-a91e-9222e8aaa2a4",
        "colab": {
          "base_uri": "https://localhost:8080/",
          "height": 1000
        }
      },
      "execution_count": null,
      "outputs": [
        {
          "output_type": "stream",
          "name": "stdout",
          "text": [
            "======\n",
            "epoch  0\n",
            "loss  2.428987741470337\n",
            "train_accuracy 0.085\n",
            "test_accuracy 0.117\n",
            "======\n",
            "epoch  1000\n",
            "loss  1.563092589378357\n",
            "train_accuracy 0.884\n",
            "test_accuracy 0.879\n",
            "======\n",
            "epoch  2000\n",
            "loss  1.5534495115280151\n",
            "train_accuracy 0.892\n",
            "test_accuracy 0.889\n",
            "======\n",
            "epoch  3000\n",
            "loss  1.5491183996200562\n",
            "train_accuracy 0.897\n",
            "test_accuracy 0.891\n",
            "======\n",
            "epoch  4000\n",
            "loss  1.545987606048584\n",
            "train_accuracy 0.899\n",
            "test_accuracy 0.894\n",
            "======\n",
            "epoch  5000\n",
            "loss  1.5442380905151367\n",
            "train_accuracy 0.900\n",
            "test_accuracy 0.894\n",
            "======\n",
            "epoch  6000\n",
            "loss  1.5427018404006958\n",
            "train_accuracy 0.901\n",
            "test_accuracy 0.894\n",
            "======\n",
            "epoch  7000\n",
            "loss  1.5412440299987793\n",
            "train_accuracy 0.902\n",
            "test_accuracy 0.896\n",
            "======\n",
            "epoch  8000\n",
            "loss  1.5412737131118774\n",
            "train_accuracy 0.902\n",
            "test_accuracy 0.897\n",
            "======\n",
            "epoch  9000\n",
            "loss  1.5393997430801392\n",
            "train_accuracy 0.903\n",
            "test_accuracy 0.896\n"
          ]
        },
        {
          "output_type": "display_data",
          "data": {
            "text/plain": [
              "<Figure size 640x480 with 1 Axes>"
            ],
            "image/png": "[encoded data removed]"
          },
          "metadata": {}
        }
      ]
    },
    {
      "cell_type": "code",
      "source": [
        "#Accuracy를 올리기 위해서 무엇을 추가 할 수 있을지 한줄로 의견과 근거를 작성하고 실제로 코드에 반영 했을 때 결과가 어떤지 확인\n",
        "device=torch.device(\"cuda\" if torch.cuda.is_available() else \"cpu\")\n",
        "print(device)\n",
        "#hyper parameters\n",
        "epochs = 10000\n",
        "input_dim = 784\n",
        "output_dim = 10\n",
        "lr = 0.01\n",
        "model = LogisticRegression(input_dim, output_dim)\n",
        "model = model.to(device)\n",
        "criterion = torch.nn.CrossEntropyLoss() #교차 entropy\n",
        "# Optimizer 변경: SGD -> Adam, l2정규화 적용\n",
        "optimizer = torch.optim.Adam(model.parameters(), lr=0.001, weight_decay=1e-5)\n",
        "\n"
      ],
      "metadata": {
        "id": "DcXltkBmT5hX",
        "colab": {
          "base_uri": "https://localhost:8080/"
        },
        "outputId": "bc829284-18f1-422e-c2e6-2978eed5f27d"
      },
      "execution_count": null,
      "outputs": [
        {
          "output_type": "stream",
          "name": "stdout",
          "text": [
            "cuda\n"
          ]
        }
      ]
    },
    {
      "cell_type": "code",
      "source": [
        "import matplotlib.pyplot as plt\n",
        "from torch.utils.data import TensorDataset, DataLoader\n",
        "\n",
        "train_loss_save_arr = []\n",
        "test_loss_save_arr = []\n",
        "X_train_tensor = X_train_tensor.to(device)\n",
        "y_train_tensor = y_train_tensor.to(device)\n",
        "\n",
        "# 테스트 데이터셋을 위한 TensorDataset 인스턴스 생성\n",
        "test_dataset = TensorDataset(X_test_tensor, y_test_tensor)\n",
        "test_loader = DataLoader(dataset=test_dataset, batch_size=64, shuffle=False)\n",
        "# 학습률 스케줄러 추가\n",
        "scheduler = torch.optim.lr_scheduler.StepLR(optimizer, step_size=1000, gamma=0.9)\n"
      ],
      "metadata": {
        "id": "Eb7rA7eCDVCx"
      },
      "execution_count": null,
      "outputs": []
    },
    {
      "cell_type": "code",
      "source": [
        "loss_save_arr = []\n",
        "scheduler = torch.optim.lr_scheduler.StepLR(optimizer, step_size=1000, gamma=0.9)\n",
        "\n",
        "for i in range(epochs):\n",
        "    #### train ####\n",
        "    model.train()\n",
        "    optimizer.zero_grad()\n",
        "    output = model(X_train_tensor)\n",
        "    loss = criterion(output, y_train_tensor)\n",
        "    loss.backward()\n",
        "    optimizer.step()\n",
        "    loss_save_arr.append(loss.item())\n",
        "    scheduler.step()  # 에포크마다 학습률 스케줄러 업데이트\n",
        "\n",
        "    if i % 10 == 0:\n",
        "        train_loss_save_arr.append(loss.item())\n",
        "\n",
        "\n",
        "    if i % 1000 == 0:\n",
        "        print(\"======\")\n",
        "        print('epoch ', i)\n",
        "        print('loss ', loss.item())\n",
        "        _, pred = torch.max(output.data, axis=1)\n",
        "        train_accuracy = (pred == y_train_tensor).float().mean().item()\n",
        "        print(f\"train_accuracy {train_accuracy:.3f}\")\n",
        "\n",
        "\n",
        "    #### test ####\n",
        "        model.eval()\n",
        "        with torch.no_grad():\n",
        "          test_loss = 0\n",
        "          correct = 0\n",
        "          total =0\n",
        "          for data, target in test_loader:\n",
        "            data, target = data.to(device), target.to(device)\n",
        "            output = model(data)\n",
        "            loss = criterion(output, target)\n",
        "            test_loss += loss.item() * data.size(0)\n",
        "            _, pred = torch.max(output, 1)\n",
        "            correct += (pred == target).sum().item()\n",
        "            total += target.size(0)\n",
        "          test_loss /= len(test_loader.dataset)\n",
        "          test_accuracy = correct / total\n",
        "          print(f\"test_accuracy {test_accuracy:.3f}\")\n",
        "          test_loss_save_arr.append(test_loss)\n",
        "\n",
        "plt.plot(train_loss_save_arr, label='Train Loss')\n",
        "plt.plot(test_loss_save_arr, label='Test Loss')\n",
        "plt.xlabel('Epochs (x10)')\n",
        "plt.ylabel('Loss')\n",
        "plt.title('Train / Test Loss')\n",
        "plt.legend()\n",
        "plt.show()\n"
      ],
      "metadata": {
        "colab": {
          "base_uri": "https://localhost:8080/",
          "height": 1000
        },
        "id": "fxuKOQ7vDZPr",
        "outputId": "13e7dd8d-fc89-4d67-f7e5-023de54d183a"
      },
      "execution_count": null,
      "outputs": [
        {
          "output_type": "stream",
          "name": "stdout",
          "text": [
            "======\n",
            "epoch  0\n",
            "loss  2.388636827468872\n",
            "train_accuracy 0.105\n",
            "test_accuracy 0.118\n",
            "======\n",
            "epoch  1000\n",
            "loss  1.5343329906463623\n",
            "train_accuracy 0.910\n",
            "test_accuracy 0.904\n",
            "======\n",
            "epoch  2000\n",
            "loss  1.529736042022705\n",
            "train_accuracy 0.913\n",
            "test_accuracy 0.904\n",
            "======\n",
            "epoch  3000\n",
            "loss  1.5275766849517822\n",
            "train_accuracy 0.913\n",
            "test_accuracy 0.903\n",
            "======\n",
            "epoch  4000\n",
            "loss  1.5267192125320435\n",
            "train_accuracy 0.913\n",
            "test_accuracy 0.903\n",
            "======\n",
            "epoch  5000\n",
            "loss  1.528224229812622\n",
            "train_accuracy 0.909\n",
            "test_accuracy 0.898\n",
            "======\n",
            "epoch  6000\n",
            "loss  1.525604248046875\n",
            "train_accuracy 0.914\n",
            "test_accuracy 0.900\n",
            "======\n",
            "epoch  7000\n",
            "loss  1.5245524644851685\n",
            "train_accuracy 0.914\n",
            "test_accuracy 0.901\n",
            "======\n",
            "epoch  8000\n",
            "loss  1.525282621383667\n",
            "train_accuracy 0.915\n",
            "test_accuracy 0.899\n",
            "======\n",
            "epoch  9000\n",
            "loss  1.5240391492843628\n",
            "train_accuracy 0.914\n",
            "test_accuracy 0.900\n"
          ]
        },
        {
          "output_type": "display_data",
          "data": {
            "text/plain": [
              "<Figure size 640x480 with 1 Axes>"
            ],
            "image/png": "[encoded data removed]"
          },
          "metadata": {}
        }
      ]
    }
  ],
  "metadata": {
    "colab": {
      "provenance": [],
      "gpuType": "T4",
      "include_colab_link": true
    },
    "kernelspec": {
      "display_name": "Python 3",
      "name": "python3"
    },
    "accelerator": "GPU"
  },
  "nbformat": 4,
  "nbformat_minor": 0
}